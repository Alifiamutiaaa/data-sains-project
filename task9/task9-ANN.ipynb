{
 "cells": [
  {
   "attachments": {},
   "cell_type": "markdown",
   "metadata": {},
   "source": [
    "# ANN - Boston Housing Dataset\n",
    "---"
   ]
  },
  {
   "cell_type": "code",
   "execution_count": 9,
   "metadata": {
    "colab": {},
    "colab_type": "code",
    "id": "rhSbQFmyGRru"
   },
   "outputs": [],
   "source": [
    "import keras\n",
    "from keras.datasets import mnist\n",
    "from keras.utils import np_utils\n",
    "\n",
    "(X_train, y_train), (X_test, y_test) = mnist.load_data()\n",
    "X_train = X_train.reshape(-1, 28,28,1)\n",
    "X_test = X_test.reshape(-1, 28,28,1)\n",
    "X_train = X_train.astype('float32')\n",
    "X_test = X_test.astype('float32')\n",
    "X_train /= 255\n",
    "X_test /= 255\n",
    "y_train = np_utils.to_categorical(y_train, 10)\n",
    "y_test = np_utils.to_categorical(y_test, 10)"
   ]
  },
  {
   "cell_type": "code",
   "execution_count": 10,
   "metadata": {},
   "outputs": [],
   "source": [
    "#model1 menggunakan Multilayer Neural Network\n",
    "\n",
    "from keras.models import Sequential\n",
    "from keras.layers import Flatten, Dense\n",
    "\n",
    "model1 = Sequential()\n",
    "model1.add(Flatten())\n",
    "model1.add(Dense(64,activation='relu'))\n",
    "model1.add(Dense(10,activation='softmax'))"
   ]
  },
  {
   "cell_type": "code",
   "execution_count": 11,
   "metadata": {},
   "outputs": [
    {
     "name": "stdout",
     "output_type": "stream",
     "text": [
      "Epoch 1/10\n",
      "600/600 [==============================] - 6s 7ms/step - loss: 0.3880 - acc: 0.8927 - val_loss: 0.2166 - val_acc: 0.9373\n",
      "Epoch 2/10\n",
      "600/600 [==============================] - 4s 7ms/step - loss: 0.1894 - acc: 0.9463 - val_loss: 0.1602 - val_acc: 0.9519\n",
      "Epoch 3/10\n",
      "600/600 [==============================] - 4s 7ms/step - loss: 0.1442 - acc: 0.9587 - val_loss: 0.1356 - val_acc: 0.9589\n",
      "Epoch 4/10\n",
      "600/600 [==============================] - 4s 7ms/step - loss: 0.1178 - acc: 0.9661 - val_loss: 0.1209 - val_acc: 0.9637\n",
      "Epoch 5/10\n",
      "600/600 [==============================] - 4s 7ms/step - loss: 0.0993 - acc: 0.9718 - val_loss: 0.1096 - val_acc: 0.9670\n",
      "Epoch 6/10\n",
      "600/600 [==============================] - 5s 9ms/step - loss: 0.0853 - acc: 0.9755 - val_loss: 0.0943 - val_acc: 0.9705\n",
      "Epoch 7/10\n",
      "600/600 [==============================] - 5s 9ms/step - loss: 0.0748 - acc: 0.9785 - val_loss: 0.0934 - val_acc: 0.9726\n",
      "Epoch 8/10\n",
      "600/600 [==============================] - 7s 11ms/step - loss: 0.0661 - acc: 0.9804 - val_loss: 0.0939 - val_acc: 0.9728\n",
      "Epoch 9/10\n",
      "600/600 [==============================] - 5s 8ms/step - loss: 0.0590 - acc: 0.9829 - val_loss: 0.0922 - val_acc: 0.9724\n",
      "Epoch 10/10\n",
      "600/600 [==============================] - 4s 6ms/step - loss: 0.0521 - acc: 0.9855 - val_loss: 0.0894 - val_acc: 0.9733\n"
     ]
    }
   ],
   "source": [
    "model1.compile(optimizer='adam',loss='categorical_crossentropy',metrics=['acc'])\n",
    "history1 = model1.fit(X_train,y_train,epochs=10,batch_size=100,validation_data=(X_test,y_test))"
   ]
  },
  {
   "cell_type": "code",
   "execution_count": 12,
   "metadata": {},
   "outputs": [
    {
     "name": "stdout",
     "output_type": "stream",
     "text": [
      "Model: \"sequential_1\"\n",
      "_________________________________________________________________\n",
      " Layer (type)                Output Shape              Param #   \n",
      "=================================================================\n",
      " flatten_1 (Flatten)         (100, 784)                0         \n",
      "                                                                 \n",
      " dense_2 (Dense)             (100, 64)                 50240     \n",
      "                                                                 \n",
      " dense_3 (Dense)             (100, 10)                 650       \n",
      "                                                                 \n",
      "=================================================================\n",
      "Total params: 50,890\n",
      "Trainable params: 50,890\n",
      "Non-trainable params: 0\n",
      "_________________________________________________________________\n"
     ]
    }
   ],
   "source": [
    "model1.summary()"
   ]
  },
  {
   "cell_type": "code",
   "execution_count": 13,
   "metadata": {},
   "outputs": [
    {
     "name": "stdout",
     "output_type": "stream",
     "text": [
      "313/313 [==============================] - 2s 3ms/step - loss: 0.0894 - acc: 0.9733\n"
     ]
    },
    {
     "data": {
      "text/plain": [
       "[0.08936821669340134, 0.9732999801635742]"
      ]
     },
     "execution_count": 13,
     "metadata": {},
     "output_type": "execute_result"
    }
   ],
   "source": [
    "model1.evaluate(X_test,y_test)"
   ]
  },
  {
   "cell_type": "code",
   "execution_count": 14,
   "metadata": {},
   "outputs": [
    {
     "data": {
      "text/plain": [
       "<matplotlib.legend.Legend at 0x1f37db8ebe0>"
      ]
     },
     "execution_count": 14,
     "metadata": {},
     "output_type": "execute_result"
    },
    {
     "data": {
      "image/png": "[encoded data removed]",
      "text/plain": [
       "<Figure size 640x480 with 1 Axes>"
      ]
     },
     "metadata": {},
     "output_type": "display_data"
    }
   ],
   "source": [
    "import matplotlib.pyplot as plt\n",
    "import warnings \n",
    "warnings.filterwarnings('ignore')\n",
    "\n",
    "epochs = range(10)\n",
    "\n",
    "loss1 = history1.history['loss']\n",
    "val_loss1 = history1.history['val_loss']\n",
    "\n",
    "plt.plot(epochs,loss1,'r',label='training loss ANN')\n",
    "plt.plot(epochs,val_loss1,'b',label='validasi loss ANN')\n",
    "plt.legend()"
   ]
  },
  {
   "cell_type": "code",
   "execution_count": 15,
   "metadata": {},
   "outputs": [
    {
     "name": "stdout",
     "output_type": "stream",
     "text": [
      "313/313 [==============================] - 2s 4ms/step\n",
      "label actual: 3\n",
      "label prediction: 3\n"
     ]
    }
   ],
   "source": [
    "import numpy as np\n",
    "\n",
    "pred = model1.predict(X_test)\n",
    "print('label actual:',np.argmax(y_test[30]))\n",
    "print('label prediction:',np.argmax(pred[30]))"
   ]
  }
 ],
 "metadata": {
  "accelerator": "GPU",
  "colab": {
   "name": "cv_demo2.ipynb",
   "provenance": [],
   "version": "0.3.2"
  },
  "kernelspec": {
   "display_name": "Python 3 (ipykernel)",
   "language": "python",
   "name": "python3"
  },
  "language_info": {
   "codemirror_mode": {
    "name": "ipython",
    "version": 3
   },
   "file_extension": ".py",
   "mimetype": "text/x-python",
   "name": "python",
   "nbconvert_exporter": "python",
   "pygments_lexer": "ipython3",
   "version": "3.9.13"
  }
 },
 "nbformat": 4,
 "nbformat_minor": 1
}
