{
 "cells": [
  {
   "attachments": {},
   "cell_type": "markdown",
   "metadata": {},
   "source": [
    "# ANN - Wine Dataset\n",
    "---"
   ]
  },
  {
   "cell_type": "code",
   "execution_count": 2,
   "metadata": {},
   "outputs": [],
   "source": [
    "# Import Library\n",
    "from sklearn import datasets\n",
    "from sklearn.model_selection import train_test_split"
   ]
  },
  {
   "cell_type": "code",
   "execution_count": 3,
   "metadata": {},
   "outputs": [],
   "source": [
    "# Load dataset\n",
    "wine = datasets.load_wine()\n",
    "\n",
    "X = wine.data\n",
    "y = wine.target"
   ]
  },
  {
   "cell_type": "code",
   "execution_count": 4,
   "metadata": {},
   "outputs": [
    {
     "name": "stdout",
     "output_type": "stream",
     "text": [
      "X_train (136, 13)\n",
      "X_val (24, 13)\n",
      "X_test (18, 13)\n"
     ]
    }
   ],
   "source": [
    "X_train, X_test, Y_train, Y_test = train_test_split(X, y, test_size=.10)\n",
    "X_train, X_val, Y_train, Y_val = train_test_split(X_train, Y_train, test_size=.15)\n",
    "print('X_train', X_train.shape)\n",
    "print('X_val', X_val.shape)\n",
    "print('X_test', X_test.shape)"
   ]
  },
  {
   "cell_type": "code",
   "execution_count": 5,
   "metadata": {},
   "outputs": [],
   "source": [
    "from sklearn.neural_network import MLPClassifier\n",
    "\n",
    "mlp = MLPClassifier(hidden_layer_sizes=(64, ), activation='relu',max_iter=1000, epsilon=1e-08)"
   ]
  },
  {
   "cell_type": "code",
   "execution_count": 6,
   "metadata": {},
   "outputs": [
    {
     "name": "stdout",
     "output_type": "stream",
     "text": [
      "Akurasi Validasi Training ANN: 0.3333333333333333\n"
     ]
    }
   ],
   "source": [
    "from sklearn.metrics import accuracy_score\n",
    "\n",
    "mlp.fit(X_train, Y_train)\n",
    "prediksi_val = mlp.predict(X_val)\n",
    "acc_val = accuracy_score(Y_val, prediksi_val)\n",
    "print('Akurasi Validasi Training ANN:', acc_val)"
   ]
  },
  {
   "cell_type": "code",
   "execution_count": 7,
   "metadata": {},
   "outputs": [
    {
     "name": "stdout",
     "output_type": "stream",
     "text": [
      "Akurasi Testing ANN: 0.1111111111111111\n"
     ]
    }
   ],
   "source": [
    "prediksi_test = mlp.predict(X_test)\n",
    "acc_test = accuracy_score(Y_test, prediksi_test)\n",
    "print('Akurasi Testing ANN:', acc_test)"
   ]
  },
  {
   "cell_type": "code",
   "execution_count": 8,
   "metadata": {},
   "outputs": [
    {
     "name": "stderr",
     "output_type": "stream",
     "text": [
      "c:\\Users\\alifi\\anaconda3\\lib\\site-packages\\sklearn\\utils\\deprecation.py:87: FutureWarning: Function plot_confusion_matrix is deprecated; Function `plot_confusion_matrix` is deprecated in 1.0 and will be removed in 1.2. Use one of the class methods: ConfusionMatrixDisplay.from_predictions or ConfusionMatrixDisplay.from_estimator.\n",
      "  warnings.warn(msg, category=FutureWarning)\n"
     ]
    },
    {
     "name": "stdout",
     "output_type": "stream",
     "text": [
      "Akurasi Testing ANN: 0.1111111111111111\n"
     ]
    },
    {
     "data": {
      "image/png": "[encoded data removed]",
      "text/plain": [
       "<Figure size 640x480 with 2 Axes>"
      ]
     },
     "metadata": {},
     "output_type": "display_data"
    }
   ],
   "source": [
    "from sklearn.metrics import accuracy_score, plot_confusion_matrix\n",
    "\n",
    "prediksi = mlp.predict(X_test)\n",
    "plot_confusion_matrix(mlp, X_test, Y_test)\n",
    "accuracy = accuracy_score(Y_test, prediksi)\n",
    "print('Akurasi Testing ANN:', accuracy)"
   ]
  },
  {
   "cell_type": "code",
   "execution_count": 9,
   "metadata": {},
   "outputs": [],
   "source": [
    "from tensorflow.keras.utils import to_categorical\n",
    "\n",
    "Y_train = to_categorical(Y_train,3)\n",
    "Y_val = to_categorical(Y_val,3)\n",
    "Y_test = to_categorical(Y_test,3)"
   ]
  },
  {
   "cell_type": "code",
   "execution_count": 10,
   "metadata": {},
   "outputs": [],
   "source": [
    "from keras.models import Sequential\n",
    "from keras.layers import Flatten, Dense\n",
    "\n",
    "model = Sequential()\n",
    "model.add(Flatten())\n",
    "model.add(Dense(64,activation='relu'))\n",
    "model.add(Dense(3,activation='softmax'))\n",
    "\n",
    "model.compile(optimizer='adam',loss='categorical_crossentropy', metrics=['acc'])"
   ]
  },
  {
   "cell_type": "code",
   "execution_count": 11,
   "metadata": {},
   "outputs": [
    {
     "name": "stdout",
     "output_type": "stream",
     "text": [
      "Epoch 1/100\n",
      "14/14 [==============================] - 4s 76ms/step - loss: 67.1448 - acc: 0.3676 - val_loss: 44.7466 - val_acc: 0.2500\n",
      "Epoch 2/100\n",
      "14/14 [==============================] - 0s 17ms/step - loss: 21.3831 - acc: 0.3824 - val_loss: 5.1084 - val_acc: 0.2917\n",
      "Epoch 3/100\n",
      "14/14 [==============================] - 0s 17ms/step - loss: 6.0763 - acc: 0.3971 - val_loss: 5.0649 - val_acc: 0.2917\n",
      "Epoch 4/100\n",
      "14/14 [==============================] - 0s 20ms/step - loss: 5.0698 - acc: 0.5074 - val_loss: 3.0961 - val_acc: 0.4583\n",
      "Epoch 5/100\n",
      "14/14 [==============================] - 0s 17ms/step - loss: 3.0223 - acc: 0.5221 - val_loss: 3.4702 - val_acc: 0.5000\n",
      "Epoch 6/100\n",
      "14/14 [==============================] - 0s 20ms/step - loss: 2.8211 - acc: 0.4779 - val_loss: 1.6417 - val_acc: 0.5833\n",
      "Epoch 7/100\n",
      "14/14 [==============================] - 0s 17ms/step - loss: 1.9217 - acc: 0.5515 - val_loss: 1.8491 - val_acc: 0.5000\n",
      "Epoch 8/100\n",
      "14/14 [==============================] - 0s 15ms/step - loss: 1.5052 - acc: 0.5956 - val_loss: 1.5142 - val_acc: 0.5000\n",
      "Epoch 9/100\n",
      "14/14 [==============================] - 0s 15ms/step - loss: 1.2189 - acc: 0.6618 - val_loss: 1.0712 - val_acc: 0.6250\n",
      "Epoch 10/100\n",
      "14/14 [==============================] - 0s 15ms/step - loss: 0.9929 - acc: 0.7132 - val_loss: 1.1058 - val_acc: 0.6250\n",
      "Epoch 11/100\n",
      "14/14 [==============================] - 0s 14ms/step - loss: 0.8265 - acc: 0.7279 - val_loss: 1.6747 - val_acc: 0.5417\n",
      "Epoch 12/100\n",
      "14/14 [==============================] - 0s 15ms/step - loss: 0.9545 - acc: 0.7353 - val_loss: 0.8118 - val_acc: 0.7500\n",
      "Epoch 13/100\n",
      "14/14 [==============================] - 0s 14ms/step - loss: 0.6779 - acc: 0.7941 - val_loss: 0.8089 - val_acc: 0.6667\n",
      "Epoch 14/100\n",
      "14/14 [==============================] - 0s 15ms/step - loss: 0.6464 - acc: 0.8456 - val_loss: 0.8867 - val_acc: 0.6667\n",
      "Epoch 15/100\n",
      "14/14 [==============================] - 0s 23ms/step - loss: 0.5801 - acc: 0.8235 - val_loss: 0.8343 - val_acc: 0.7083\n",
      "Epoch 16/100\n",
      "14/14 [==============================] - 0s 16ms/step - loss: 0.6576 - acc: 0.7794 - val_loss: 1.2067 - val_acc: 0.6667\n",
      "Epoch 17/100\n",
      "14/14 [==============================] - 0s 17ms/step - loss: 0.6378 - acc: 0.7721 - val_loss: 0.8694 - val_acc: 0.7500\n",
      "Epoch 18/100\n",
      "14/14 [==============================] - 0s 15ms/step - loss: 1.1630 - acc: 0.7279 - val_loss: 1.4000 - val_acc: 0.6250\n",
      "Epoch 19/100\n",
      "14/14 [==============================] - 0s 15ms/step - loss: 1.2557 - acc: 0.7426 - val_loss: 0.7688 - val_acc: 0.7917\n",
      "Epoch 20/100\n",
      "14/14 [==============================] - 0s 14ms/step - loss: 0.8693 - acc: 0.8235 - val_loss: 0.6594 - val_acc: 0.7500\n",
      "Epoch 21/100\n",
      "14/14 [==============================] - 0s 17ms/step - loss: 0.5546 - acc: 0.8088 - val_loss: 0.8461 - val_acc: 0.7500\n",
      "Epoch 22/100\n",
      "14/14 [==============================] - 0s 14ms/step - loss: 0.7692 - acc: 0.8235 - val_loss: 0.7609 - val_acc: 0.7500\n",
      "Epoch 23/100\n",
      "14/14 [==============================] - 0s 16ms/step - loss: 0.8823 - acc: 0.8015 - val_loss: 0.8022 - val_acc: 0.6667\n",
      "Epoch 24/100\n",
      "14/14 [==============================] - 0s 15ms/step - loss: 0.5461 - acc: 0.8456 - val_loss: 0.6217 - val_acc: 0.7500\n",
      "Epoch 25/100\n",
      "14/14 [==============================] - 0s 17ms/step - loss: 0.4673 - acc: 0.8824 - val_loss: 1.0060 - val_acc: 0.7083\n",
      "Epoch 26/100\n",
      "14/14 [==============================] - 0s 18ms/step - loss: 0.5120 - acc: 0.8456 - val_loss: 0.6546 - val_acc: 0.6667\n",
      "Epoch 27/100\n",
      "14/14 [==============================] - 0s 18ms/step - loss: 0.4259 - acc: 0.8750 - val_loss: 0.5929 - val_acc: 0.7917\n",
      "Epoch 28/100\n",
      "14/14 [==============================] - 0s 14ms/step - loss: 0.6552 - acc: 0.8235 - val_loss: 0.7356 - val_acc: 0.7917\n",
      "Epoch 29/100\n",
      "14/14 [==============================] - 0s 17ms/step - loss: 0.4670 - acc: 0.8750 - val_loss: 0.6491 - val_acc: 0.7500\n",
      "Epoch 30/100\n",
      "14/14 [==============================] - 0s 19ms/step - loss: 0.5217 - acc: 0.8309 - val_loss: 0.6607 - val_acc: 0.7083\n",
      "Epoch 31/100\n",
      "14/14 [==============================] - 0s 15ms/step - loss: 0.4695 - acc: 0.8824 - val_loss: 0.6890 - val_acc: 0.7083\n",
      "Epoch 32/100\n",
      "14/14 [==============================] - 0s 16ms/step - loss: 0.4169 - acc: 0.8529 - val_loss: 0.4875 - val_acc: 0.8333\n",
      "Epoch 33/100\n",
      "14/14 [==============================] - 0s 31ms/step - loss: 0.3844 - acc: 0.8971 - val_loss: 0.6172 - val_acc: 0.8333\n",
      "Epoch 34/100\n",
      "14/14 [==============================] - 0s 31ms/step - loss: 0.4651 - acc: 0.8529 - val_loss: 0.8387 - val_acc: 0.6667\n",
      "Epoch 35/100\n",
      "14/14 [==============================] - 0s 24ms/step - loss: 0.7202 - acc: 0.8162 - val_loss: 1.5357 - val_acc: 0.6250\n",
      "Epoch 36/100\n",
      "14/14 [==============================] - 0s 27ms/step - loss: 1.5031 - acc: 0.7132 - val_loss: 0.9200 - val_acc: 0.7083\n",
      "Epoch 37/100\n",
      "14/14 [==============================] - 0s 24ms/step - loss: 1.3124 - acc: 0.7279 - val_loss: 0.4576 - val_acc: 0.8750\n",
      "Epoch 38/100\n",
      "14/14 [==============================] - 0s 21ms/step - loss: 0.5593 - acc: 0.8382 - val_loss: 1.6268 - val_acc: 0.6250\n",
      "Epoch 39/100\n",
      "14/14 [==============================] - 0s 32ms/step - loss: 1.0505 - acc: 0.7574 - val_loss: 2.0698 - val_acc: 0.6250\n",
      "Epoch 40/100\n",
      "14/14 [==============================] - 0s 22ms/step - loss: 0.6871 - acc: 0.8015 - val_loss: 1.7458 - val_acc: 0.6250\n",
      "Epoch 41/100\n",
      "14/14 [==============================] - 0s 33ms/step - loss: 0.5152 - acc: 0.8897 - val_loss: 0.5263 - val_acc: 0.7500\n",
      "Epoch 42/100\n",
      "14/14 [==============================] - 0s 32ms/step - loss: 0.4913 - acc: 0.9191 - val_loss: 0.5204 - val_acc: 0.7917\n",
      "Epoch 43/100\n",
      "14/14 [==============================] - 0s 27ms/step - loss: 0.7603 - acc: 0.7721 - val_loss: 1.5702 - val_acc: 0.6667\n",
      "Epoch 44/100\n",
      "14/14 [==============================] - 0s 25ms/step - loss: 0.6534 - acc: 0.8603 - val_loss: 0.5032 - val_acc: 0.9167\n",
      "Epoch 45/100\n",
      "14/14 [==============================] - 0s 26ms/step - loss: 0.3613 - acc: 0.8824 - val_loss: 0.6357 - val_acc: 0.7083\n",
      "Epoch 46/100\n",
      "14/14 [==============================] - 0s 29ms/step - loss: 0.4889 - acc: 0.8676 - val_loss: 0.8961 - val_acc: 0.7083\n",
      "Epoch 47/100\n",
      "14/14 [==============================] - 1s 39ms/step - loss: 0.3729 - acc: 0.9044 - val_loss: 0.5440 - val_acc: 0.7917\n",
      "Epoch 48/100\n",
      "14/14 [==============================] - 0s 35ms/step - loss: 0.4051 - acc: 0.8456 - val_loss: 1.2226 - val_acc: 0.7083\n",
      "Epoch 49/100\n",
      "14/14 [==============================] - 1s 40ms/step - loss: 0.4121 - acc: 0.8750 - val_loss: 0.7523 - val_acc: 0.7500\n",
      "Epoch 50/100\n",
      "14/14 [==============================] - 0s 38ms/step - loss: 0.3259 - acc: 0.9118 - val_loss: 0.4200 - val_acc: 0.8750\n",
      "Epoch 51/100\n",
      "14/14 [==============================] - 0s 22ms/step - loss: 0.3229 - acc: 0.9044 - val_loss: 0.4929 - val_acc: 0.9583\n",
      "Epoch 52/100\n",
      "14/14 [==============================] - 1s 46ms/step - loss: 0.2655 - acc: 0.9265 - val_loss: 0.4705 - val_acc: 0.7917\n",
      "Epoch 53/100\n",
      "14/14 [==============================] - 0s 36ms/step - loss: 0.4122 - acc: 0.8897 - val_loss: 0.4513 - val_acc: 0.9167\n",
      "Epoch 54/100\n",
      "14/14 [==============================] - 0s 37ms/step - loss: 0.2967 - acc: 0.9044 - val_loss: 0.6065 - val_acc: 0.7917\n",
      "Epoch 55/100\n",
      "14/14 [==============================] - 1s 45ms/step - loss: 0.7100 - acc: 0.7868 - val_loss: 0.4320 - val_acc: 0.8333\n",
      "Epoch 56/100\n",
      "14/14 [==============================] - 0s 25ms/step - loss: 0.4544 - acc: 0.8603 - val_loss: 0.4488 - val_acc: 0.7917\n",
      "Epoch 57/100\n",
      "14/14 [==============================] - 0s 27ms/step - loss: 0.3669 - acc: 0.8676 - val_loss: 1.0550 - val_acc: 0.6667\n",
      "Epoch 58/100\n",
      "14/14 [==============================] - 0s 26ms/step - loss: 0.4924 - acc: 0.9044 - val_loss: 0.8772 - val_acc: 0.7083\n",
      "Epoch 59/100\n",
      "14/14 [==============================] - 0s 22ms/step - loss: 0.3487 - acc: 0.8750 - val_loss: 0.4845 - val_acc: 0.8333\n",
      "Epoch 60/100\n",
      "14/14 [==============================] - 0s 19ms/step - loss: 0.3325 - acc: 0.9044 - val_loss: 0.3496 - val_acc: 0.8750\n",
      "Epoch 61/100\n",
      "14/14 [==============================] - 0s 17ms/step - loss: 0.2897 - acc: 0.9118 - val_loss: 0.4597 - val_acc: 0.8750\n",
      "Epoch 62/100\n",
      "14/14 [==============================] - 0s 17ms/step - loss: 0.3021 - acc: 0.9338 - val_loss: 0.4990 - val_acc: 0.7917\n",
      "Epoch 63/100\n",
      "14/14 [==============================] - 0s 17ms/step - loss: 0.3118 - acc: 0.8824 - val_loss: 0.4282 - val_acc: 0.8333\n",
      "Epoch 64/100\n",
      "14/14 [==============================] - 0s 15ms/step - loss: 0.2335 - acc: 0.9265 - val_loss: 0.5072 - val_acc: 0.8750\n",
      "Epoch 65/100\n",
      "14/14 [==============================] - 0s 17ms/step - loss: 0.2663 - acc: 0.9044 - val_loss: 0.7791 - val_acc: 0.7500\n",
      "Epoch 66/100\n",
      "14/14 [==============================] - 0s 23ms/step - loss: 0.3471 - acc: 0.8529 - val_loss: 0.4701 - val_acc: 0.7917\n",
      "Epoch 67/100\n",
      "14/14 [==============================] - 0s 24ms/step - loss: 0.3442 - acc: 0.8897 - val_loss: 0.3470 - val_acc: 0.9167\n",
      "Epoch 68/100\n",
      "14/14 [==============================] - 0s 30ms/step - loss: 0.2274 - acc: 0.9265 - val_loss: 0.3544 - val_acc: 0.8333\n",
      "Epoch 69/100\n",
      "14/14 [==============================] - 0s 22ms/step - loss: 0.2931 - acc: 0.9265 - val_loss: 0.6528 - val_acc: 0.7500\n",
      "Epoch 70/100\n",
      "14/14 [==============================] - 1s 39ms/step - loss: 0.2595 - acc: 0.8897 - val_loss: 1.8399 - val_acc: 0.5833\n",
      "Epoch 71/100\n",
      "14/14 [==============================] - 0s 18ms/step - loss: 0.4832 - acc: 0.8382 - val_loss: 0.6641 - val_acc: 0.7500\n",
      "Epoch 72/100\n",
      "14/14 [==============================] - 0s 16ms/step - loss: 0.2628 - acc: 0.8897 - val_loss: 0.4201 - val_acc: 0.7917\n",
      "Epoch 73/100\n",
      "14/14 [==============================] - 0s 16ms/step - loss: 0.2737 - acc: 0.9191 - val_loss: 0.6046 - val_acc: 0.7500\n",
      "Epoch 74/100\n",
      "14/14 [==============================] - 0s 23ms/step - loss: 0.3729 - acc: 0.8824 - val_loss: 0.4240 - val_acc: 0.8750\n",
      "Epoch 75/100\n",
      "14/14 [==============================] - 0s 22ms/step - loss: 0.3563 - acc: 0.8824 - val_loss: 0.3646 - val_acc: 0.8333\n",
      "Epoch 76/100\n",
      "14/14 [==============================] - 0s 20ms/step - loss: 0.4926 - acc: 0.8456 - val_loss: 0.3024 - val_acc: 0.9167\n",
      "Epoch 77/100\n",
      "14/14 [==============================] - 0s 16ms/step - loss: 0.4097 - acc: 0.8676 - val_loss: 0.9662 - val_acc: 0.7083\n",
      "Epoch 78/100\n",
      "14/14 [==============================] - 0s 17ms/step - loss: 0.3600 - acc: 0.8971 - val_loss: 0.6182 - val_acc: 0.7917\n",
      "Epoch 79/100\n",
      "14/14 [==============================] - 0s 18ms/step - loss: 0.1901 - acc: 0.9485 - val_loss: 0.3155 - val_acc: 0.9167\n",
      "Epoch 80/100\n",
      "14/14 [==============================] - 0s 17ms/step - loss: 0.1924 - acc: 0.9265 - val_loss: 0.3848 - val_acc: 0.9583\n",
      "Epoch 81/100\n",
      "14/14 [==============================] - 0s 17ms/step - loss: 0.3595 - acc: 0.8676 - val_loss: 0.8718 - val_acc: 0.7500\n",
      "Epoch 82/100\n",
      "14/14 [==============================] - 0s 19ms/step - loss: 0.6074 - acc: 0.8603 - val_loss: 1.2652 - val_acc: 0.7083\n",
      "Epoch 83/100\n",
      "14/14 [==============================] - 0s 21ms/step - loss: 0.2859 - acc: 0.8971 - val_loss: 0.4201 - val_acc: 0.7917\n",
      "Epoch 84/100\n",
      "14/14 [==============================] - 0s 34ms/step - loss: 0.4637 - acc: 0.8529 - val_loss: 0.5588 - val_acc: 0.8750\n",
      "Epoch 85/100\n",
      "14/14 [==============================] - 0s 17ms/step - loss: 0.3772 - acc: 0.8603 - val_loss: 0.4039 - val_acc: 0.9583\n",
      "Epoch 86/100\n",
      "14/14 [==============================] - 0s 24ms/step - loss: 0.1838 - acc: 0.9265 - val_loss: 0.3007 - val_acc: 0.9167\n",
      "Epoch 87/100\n",
      "14/14 [==============================] - 0s 19ms/step - loss: 0.1366 - acc: 0.9338 - val_loss: 0.4256 - val_acc: 0.8333\n",
      "Epoch 88/100\n",
      "14/14 [==============================] - 0s 18ms/step - loss: 0.2278 - acc: 0.9118 - val_loss: 0.3289 - val_acc: 0.8750\n",
      "Epoch 89/100\n",
      "14/14 [==============================] - 0s 17ms/step - loss: 0.3785 - acc: 0.8676 - val_loss: 0.2841 - val_acc: 0.9167\n",
      "Epoch 90/100\n",
      "14/14 [==============================] - 0s 21ms/step - loss: 0.3125 - acc: 0.8897 - val_loss: 1.2205 - val_acc: 0.6667\n",
      "Epoch 91/100\n",
      "14/14 [==============================] - 0s 25ms/step - loss: 0.3942 - acc: 0.8603 - val_loss: 0.4872 - val_acc: 0.8333\n",
      "Epoch 92/100\n",
      "14/14 [==============================] - 0s 18ms/step - loss: 0.7370 - acc: 0.8162 - val_loss: 2.2686 - val_acc: 0.6250\n",
      "Epoch 93/100\n",
      "14/14 [==============================] - 0s 20ms/step - loss: 1.0297 - acc: 0.7941 - val_loss: 3.8208 - val_acc: 0.5833\n",
      "Epoch 94/100\n",
      "14/14 [==============================] - 0s 20ms/step - loss: 0.6513 - acc: 0.8529 - val_loss: 2.7681 - val_acc: 0.6667\n",
      "Epoch 95/100\n",
      "14/14 [==============================] - 0s 17ms/step - loss: 0.4731 - acc: 0.8750 - val_loss: 1.3776 - val_acc: 0.6667\n",
      "Epoch 96/100\n",
      "14/14 [==============================] - 0s 27ms/step - loss: 0.6862 - acc: 0.8603 - val_loss: 0.5134 - val_acc: 0.8750\n",
      "Epoch 97/100\n",
      "14/14 [==============================] - 0s 31ms/step - loss: 0.7219 - acc: 0.8309 - val_loss: 0.4880 - val_acc: 0.8750\n",
      "Epoch 98/100\n",
      "14/14 [==============================] - 0s 19ms/step - loss: 0.4731 - acc: 0.8750 - val_loss: 0.7016 - val_acc: 0.8333\n",
      "Epoch 99/100\n",
      "14/14 [==============================] - 0s 19ms/step - loss: 0.2517 - acc: 0.8971 - val_loss: 0.4883 - val_acc: 0.9583\n",
      "Epoch 100/100\n",
      "14/14 [==============================] - 1s 39ms/step - loss: 0.4479 - acc: 0.8750 - val_loss: 0.4978 - val_acc: 0.7917\n"
     ]
    },
    {
     "data": {
      "text/plain": [
       "<keras.callbacks.History at 0x1bd18f8ec70>"
      ]
     },
     "execution_count": 11,
     "metadata": {},
     "output_type": "execute_result"
    }
   ],
   "source": [
    "model.fit(X_train,Y_train,epochs=100,batch_size=10,validation_data=(X_val,Y_val))"
   ]
  },
  {
   "cell_type": "code",
   "execution_count": 12,
   "metadata": {},
   "outputs": [
    {
     "name": "stdout",
     "output_type": "stream",
     "text": [
      "Model: \"sequential\"\n",
      "_________________________________________________________________\n",
      " Layer (type)                Output Shape              Param #   \n",
      "=================================================================\n",
      " flatten (Flatten)           (None, 13)                0         \n",
      "                                                                 \n",
      " dense (Dense)               (None, 64)                896       \n",
      "                                                                 \n",
      " dense_1 (Dense)             (None, 3)                 195       \n",
      "                                                                 \n",
      "=================================================================\n",
      "Total params: 1,091\n",
      "Trainable params: 1,091\n",
      "Non-trainable params: 0\n",
      "_________________________________________________________________\n"
     ]
    }
   ],
   "source": [
    "model.summary()"
   ]
  },
  {
   "cell_type": "code",
   "execution_count": 13,
   "metadata": {},
   "outputs": [
    {
     "name": "stdout",
     "output_type": "stream",
     "text": [
      "1/1 [==============================] - 0s 312ms/step - loss: 0.2393 - acc: 0.9444\n",
      "Akurasi Testing ANN: 0.9444444179534912\n"
     ]
    }
   ],
   "source": [
    "from sklearn.metrics import confusion_matrix\n",
    "\n",
    "loss, accuracy = model.evaluate(X_test, Y_test)\n",
    "print('Akurasi Testing ANN:', accuracy)"
   ]
  }
 ],
 "metadata": {
  "kernelspec": {
   "display_name": "base",
   "language": "python",
   "name": "python3"
  },
  "language_info": {
   "codemirror_mode": {
    "name": "ipython",
    "version": 3
   },
   "file_extension": ".py",
   "mimetype": "text/x-python",
   "name": "python",
   "nbconvert_exporter": "python",
   "pygments_lexer": "ipython3",
   "version": "3.9.13"
  },
  "orig_nbformat": 4
 },
 "nbformat": 4,
 "nbformat_minor": 2
}
